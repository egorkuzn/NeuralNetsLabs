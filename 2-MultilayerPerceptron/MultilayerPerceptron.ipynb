{
 "cells": [
  {
   "cell_type": "markdown",
   "source": [
    "# Загрузка библиотек"
   ],
   "metadata": {
    "collapsed": false
   },
   "execution_count": 1
  },
  {
   "cell_type": "code",
   "execution_count": 4,
   "outputs": [],
   "source": [
    "import numpy as np\n",
    "import pandas as pd\n",
    "import typing"
   ],
   "metadata": {
    "collapsed": false,
    "ExecuteTime": {
     "end_time": "2023-05-17T03:51:45.355419700Z",
     "start_time": "2023-05-17T03:51:45.339778600Z"
    }
   }
  },
  {
   "cell_type": "markdown",
   "source": [
    "## Функция сигнала ошибки"
   ],
   "metadata": {
    "collapsed": false
   }
  },
  {
   "cell_type": "code",
   "execution_count": 2,
   "outputs": [],
   "source": [
    "def error_signal(desired, actual):\n",
    "    return desired - actual"
   ],
   "metadata": {
    "collapsed": false,
    "ExecuteTime": {
     "start_time": "2023-04-20T10:51:39.106465Z",
     "end_time": "2023-04-20T10:51:39.122092Z"
    }
   }
  },
  {
   "cell_type": "markdown",
   "source": [
    "## Общая энергия ошибки"
   ],
   "metadata": {
    "collapsed": false
   }
  },
  {
   "cell_type": "markdown",
   "source": [
    "ej(n) = dj(n) - yj(n)"
   ],
   "metadata": {
    "collapsed": false
   }
  },
  {
   "cell_type": "code",
   "execution_count": 3,
   "outputs": [],
   "source": [
    "def error_energy(desired, actual):\n",
    "    return 0.5 * np.sum(np.float_power(error_signal(desired, actual), 2))"
   ],
   "metadata": {
    "collapsed": false,
    "ExecuteTime": {
     "start_time": "2023-04-20T10:51:39.122092Z",
     "end_time": "2023-04-20T10:51:39.137720Z"
    }
   }
  },
  {
   "cell_type": "markdown",
   "source": [
    "## Функция стоимости - мера эффективности обучения"
   ],
   "metadata": {
    "collapsed": false
   }
  },
  {
   "cell_type": "code",
   "execution_count": 4,
   "outputs": [],
   "source": [
    "def cost_function(desired, actual):\n",
    "    return error_energy(desired, actual)"
   ],
   "metadata": {
    "collapsed": false,
    "ExecuteTime": {
     "start_time": "2023-04-20T10:51:39.137720Z",
     "end_time": "2023-04-20T10:51:39.231474Z"
    }
   }
  },
  {
   "cell_type": "markdown",
   "source": [
    "## Сигмоида"
   ],
   "metadata": {
    "collapsed": false
   }
  },
  {
   "cell_type": "code",
   "execution_count": 5,
   "outputs": [],
   "source": [
    "def diff_sigmoid(S: float, a: float=1.0):\n",
    "    a * np.exp(-S * a) * sigmoid(S, a) ** 2"
   ],
   "metadata": {
    "collapsed": false,
    "ExecuteTime": {
     "start_time": "2023-04-20T10:51:39.153342Z",
     "end_time": "2023-04-20T10:51:39.231474Z"
    }
   }
  },
  {
   "cell_type": "markdown",
   "source": [
    "Функция сигмоиды:\n",
    "![sigmoid](sigmoid.png)"
   ],
   "metadata": {
    "collapsed": false
   }
  },
  {
   "cell_type": "code",
   "execution_count": 6,
   "outputs": [],
   "source": [
    "def sigmoid(S, a: float=1.0):\n",
    "    return np.div(1.0, np.sum(np.exp(np.mul(S, -a)), 1))"
   ],
   "metadata": {
    "collapsed": false,
    "ExecuteTime": {
     "start_time": "2023-04-20T10:51:39.168969Z",
     "end_time": "2023-04-20T10:51:39.231474Z"
    }
   }
  },
  {
   "cell_type": "markdown",
   "source": [
    "## Сумматор"
   ],
   "metadata": {
    "collapsed": false
   }
  },
  {
   "cell_type": "code",
   "execution_count": 7,
   "outputs": [],
   "source": [
    "def summator(w, x):\n",
    "    return np.dot(w, x)"
   ],
   "metadata": {
    "collapsed": false,
    "ExecuteTime": {
     "start_time": "2023-04-20T10:51:39.184594Z",
     "end_time": "2023-04-20T10:51:39.231474Z"
    }
   }
  },
  {
   "cell_type": "markdown",
   "source": [
    "## Выходной сигнал"
   ],
   "metadata": {
    "collapsed": false
   }
  },
  {
   "cell_type": "code",
   "execution_count": 8,
   "outputs": [],
   "source": [
    "def output_signal(x, w):\n",
    "    return sigmoid(summator(x, w))"
   ],
   "metadata": {
    "collapsed": false,
    "ExecuteTime": {
     "start_time": "2023-04-20T10:51:39.200223Z",
     "end_time": "2023-04-20T10:51:39.231474Z"
    }
   }
  },
  {
   "cell_type": "markdown",
   "source": [
    "## Среднеквадратическая ошибка"
   ],
   "metadata": {
    "collapsed": false
   }
  },
  {
   "cell_type": "markdown",
   "source": [
    "def mse(error):\n",
    "    np.sum(np.float_power(error, 2))"
   ],
   "metadata": {
    "collapsed": false
   }
  },
  {
   "cell_type": "markdown",
   "source": [
    "# Заполнение весов"
   ],
   "metadata": {
    "collapsed": false
   }
  },
  {
   "cell_type": "markdown",
   "source": [
    "Т.к. без понятия, как подобрать начальный вес, воспользуемся рандомом в границах от -2 до 2. Можно от 0 до 1"
   ],
   "metadata": {
    "collapsed": false
   }
  },
  {
   "cell_type": "code",
   "execution_count": 9,
   "outputs": [],
   "source": [
    "def weight_matrix_init(neuorons_count: int, vector_size: int):\n",
    "    matrix = np.empty([neuorons_count, vector_size], dtype=float)\n",
    "    return matrix - (matrix // 2) * 2"
   ],
   "metadata": {
    "collapsed": false,
    "ExecuteTime": {
     "start_time": "2023-04-20T10:51:39.215852Z",
     "end_time": "2023-04-20T10:51:39.231474Z"
    }
   }
  },
  {
   "cell_type": "markdown",
   "source": [
    "# Нормализация данных"
   ],
   "metadata": {
    "collapsed": false
   }
  },
  {
   "cell_type": "code",
   "execution_count": 10,
   "outputs": [],
   "source": [
    "def data_normalise(data: pd.Series):\n",
    "    return (data - data.min()) / (data.max() - data.min())"
   ],
   "metadata": {
    "collapsed": false,
    "ExecuteTime": {
     "start_time": "2023-04-20T10:51:39.231474Z",
     "end_time": "2023-04-20T10:51:39.262712Z"
    }
   }
  },
  {
   "cell_type": "markdown",
   "source": [],
   "metadata": {
    "collapsed": false
   }
  },
  {
   "cell_type": "code",
   "execution_count": 12,
   "outputs": [],
   "source": [
    "def runLayer(input_data, layer):\n",
    "    return sigmoid(layer * input_data)\n"
   ],
   "metadata": {
    "collapsed": false,
    "ExecuteTime": {
     "start_time": "2023-04-20T10:51:39.278346Z",
     "end_time": "2023-04-20T10:51:39.418965Z"
    }
   }
  },
  {
   "cell_type": "code",
   "execution_count": 13,
   "outputs": [],
   "source": [
    "def direct_sequence(input_data, target):\n",
    "    first_layer_res = runLayer(input_data, first_layer_weights)\n",
    "    second_layer_res = runLayer(first_layer_res, second_layer_weights)\n",
    "    return error_signal(target, second_layer_res), [first_layer_res, second_layer_res]"
   ],
   "metadata": {
    "collapsed": false,
    "ExecuteTime": {
     "start_time": "2023-04-20T10:51:39.293975Z",
     "end_time": "2023-04-20T10:51:39.434605Z"
    }
   }
  },
  {
   "cell_type": "markdown",
   "source": [
    "![title](local_grad_output.png)"
   ],
   "metadata": {
    "collapsed": false
   }
  },
  {
   "cell_type": "code",
   "execution_count": 14,
   "outputs": [],
   "source": [
    "def weight_output_delta(error_signal, layer_input):\n",
    "    return error_signal * diff_sigmoid(layer_input)"
   ],
   "metadata": {
    "collapsed": false,
    "ExecuteTime": {
     "start_time": "2023-04-20T10:51:39.309593Z",
     "end_time": "2023-04-20T10:51:39.434605Z"
    }
   }
  },
  {
   "cell_type": "markdown",
   "source": [
    "![title](local_gard_hidden.png)"
   ],
   "metadata": {
    "collapsed": false
   }
  },
  {
   "cell_type": "code",
   "execution_count": 15,
   "outputs": [],
   "source": [
    "def weight_hidden_delta(layer_delta, layer_input, layer_weight):\n",
    "    return diff_sigmoid(np.sum(layer_input)) * np.dot(layer_delta, layer_weight)"
   ],
   "metadata": {
    "collapsed": false,
    "ExecuteTime": {
     "start_time": "2023-04-20T10:51:39.325215Z",
     "end_time": "2023-04-20T10:51:39.434605Z"
    }
   }
  },
  {
   "cell_type": "markdown",
   "source": [
    "![title](delta_rule.png)"
   ],
   "metadata": {
    "collapsed": false
   }
  },
  {
   "cell_type": "markdown",
   "source": [
    "/\\wji(n) = teta * delta(n) * yi(n)\n",
    "teta = одна сотая, тысячная ... (на сколько мы строги в обучении ребёнка)\n",
    "Есть два градиента: для выходного слоя, есть для скрытого слоя."
   ],
   "metadata": {
    "collapsed": false
   }
  },
  {
   "cell_type": "code",
   "execution_count": 16,
   "outputs": [],
   "source": [
    "def delta_rule(delta, layer_output, tetta: float = 0.01):\n",
    "    return tetta * pd.mul(delta, layer_output)"
   ],
   "metadata": {
    "collapsed": false,
    "ExecuteTime": {
     "start_time": "2023-04-20T10:51:39.340844Z",
     "end_time": "2023-04-20T10:51:39.434605Z"
    }
   }
  },
  {
   "cell_type": "code",
   "execution_count": 17,
   "outputs": [],
   "source": [
    "def back_propagation(error_sign, layers_inputs):\n",
    "    output_delta = weight_output_delta(error_sign, layers_inputs[1])\n",
    "    second_layer_delta = weight_hidden_delta(output_delta, layers_inputs[0])\n",
    "    second_layer_weights = second_layer_weights + layers_inputs[2] * output_delta\n",
    "    first_layer_weights = first_layer_weights + layers_inputs[1] * second_layer_delta"
   ],
   "metadata": {
    "collapsed": false,
    "ExecuteTime": {
     "start_time": "2023-04-20T10:51:39.356465Z",
     "end_time": "2023-04-20T10:51:39.434605Z"
    }
   }
  },
  {
   "cell_type": "markdown",
   "source": [],
   "metadata": {
    "collapsed": false
   }
  },
  {
   "cell_type": "code",
   "execution_count": 22,
   "outputs": [],
   "source": [
    "neurons_first_layer_count = 10\n",
    "neurons_second_layer_count = 10\n",
    "vector_size = 40\n",
    "epochs = 10"
   ],
   "metadata": {
    "collapsed": false,
    "ExecuteTime": {
     "start_time": "2023-04-20T10:54:33.005708Z",
     "end_time": "2023-04-20T10:54:33.021333Z"
    }
   }
  },
  {
   "cell_type": "markdown",
   "source": [
    "### Инициализация весов слоёв"
   ],
   "metadata": {
    "collapsed": false
   }
  },
  {
   "cell_type": "code",
   "execution_count": 19,
   "outputs": [],
   "source": [
    "first_layer_weights = weight_matrix_init(neurons_first_layer_count, vector_size)\n",
    "second_layer_weights = weight_matrix_init(neurons_second_layer_count, neurons_first_layer_count)"
   ],
   "metadata": {
    "collapsed": false,
    "ExecuteTime": {
     "start_time": "2023-04-20T10:51:39.387725Z",
     "end_time": "2023-04-20T10:51:39.434605Z"
    }
   }
  },
  {
   "cell_type": "markdown",
   "source": [
    "### Основной цикл"
   ],
   "metadata": {
    "collapsed": false
   }
  },
  {
   "cell_type": "code",
   "execution_count": 28,
   "outputs": [
    {
     "ename": "ValueError",
     "evalue": "operands could not be broadcast together with shapes (10,40) (2,) ",
     "output_type": "error",
     "traceback": [
      "\u001B[1;31m---------------------------------------------------------------------------\u001B[0m",
      "\u001B[1;31mValueError\u001B[0m                                Traceback (most recent call last)",
      "Cell \u001B[1;32mIn[28], line 3\u001B[0m\n\u001B[0;32m      1\u001B[0m \u001B[38;5;28;01mfor\u001B[39;00m epoch \u001B[38;5;129;01min\u001B[39;00m \u001B[38;5;28mrange\u001B[39m(epochs):\n\u001B[0;32m      2\u001B[0m     \u001B[38;5;28;01mfor\u001B[39;00m row_id, _ \u001B[38;5;129;01min\u001B[39;00m kgf_df\u001B[38;5;241m.\u001B[39miterrows():\n\u001B[1;32m----> 3\u001B[0m         error_sign, layers_inputs \u001B[38;5;241m=\u001B[39m \u001B[43mdirect_sequence\u001B[49m\u001B[43m(\u001B[49m\n\u001B[0;32m      4\u001B[0m \u001B[43m            \u001B[49m\u001B[43mtarget_data\u001B[49m\u001B[38;5;241;43m.\u001B[39;49m\u001B[43miloc\u001B[49m\u001B[43m[\u001B[49m\u001B[43mrow_id\u001B[49m\u001B[43m]\u001B[49m\u001B[43m,\u001B[49m\n\u001B[0;32m      5\u001B[0m \u001B[43m            \u001B[49m\u001B[43mfeatures_data\u001B[49m\u001B[38;5;241;43m.\u001B[39;49m\u001B[43miloc\u001B[49m\u001B[43m[\u001B[49m\u001B[43mrow_id\u001B[49m\u001B[43m]\u001B[49m\n\u001B[0;32m      6\u001B[0m \u001B[43m        \u001B[49m\u001B[43m)\u001B[49m\n\u001B[0;32m      7\u001B[0m         back_propagation(error_sign)\n\u001B[0;32m      9\u001B[0m \u001B[38;5;66;03m#print(mse)\u001B[39;00m\n\u001B[0;32m     10\u001B[0m \u001B[38;5;66;03m#output mse in the file\u001B[39;00m\n",
      "Cell \u001B[1;32mIn[13], line 2\u001B[0m, in \u001B[0;36mdirect_sequence\u001B[1;34m(input_data, target)\u001B[0m\n\u001B[0;32m      1\u001B[0m \u001B[38;5;28;01mdef\u001B[39;00m \u001B[38;5;21mdirect_sequence\u001B[39m(input_data, target):\n\u001B[1;32m----> 2\u001B[0m     first_layer_res \u001B[38;5;241m=\u001B[39m \u001B[43mrunLayer\u001B[49m\u001B[43m(\u001B[49m\u001B[43minput_data\u001B[49m\u001B[43m,\u001B[49m\u001B[43m \u001B[49m\u001B[43mfirst_layer_weights\u001B[49m\u001B[43m)\u001B[49m\n\u001B[0;32m      3\u001B[0m     second_layer_res \u001B[38;5;241m=\u001B[39m runLayer(first_layer_res, second_layer_weights)\n\u001B[0;32m      4\u001B[0m     \u001B[38;5;28;01mreturn\u001B[39;00m error_signal(target, second_layer_res), [first_layer_res, second_layer_res]\n",
      "Cell \u001B[1;32mIn[12], line 2\u001B[0m, in \u001B[0;36mrunLayer\u001B[1;34m(input_data, layer)\u001B[0m\n\u001B[0;32m      1\u001B[0m \u001B[38;5;28;01mdef\u001B[39;00m \u001B[38;5;21mrunLayer\u001B[39m(input_data, layer):\n\u001B[1;32m----> 2\u001B[0m     \u001B[38;5;28;01mreturn\u001B[39;00m sigmoid(\u001B[43mlayer\u001B[49m\u001B[43m \u001B[49m\u001B[38;5;241;43m*\u001B[39;49m\u001B[43m \u001B[49m\u001B[43minput_data\u001B[49m)\n",
      "File \u001B[1;32m~\\PycharmProjects\\NeuralNetsLabs\\venv\\lib\\site-packages\\pandas\\core\\generic.py:2113\u001B[0m, in \u001B[0;36mNDFrame.__array_ufunc__\u001B[1;34m(self, ufunc, method, *inputs, **kwargs)\u001B[0m\n\u001B[0;32m   2109\u001B[0m \u001B[38;5;129m@final\u001B[39m\n\u001B[0;32m   2110\u001B[0m \u001B[38;5;28;01mdef\u001B[39;00m \u001B[38;5;21m__array_ufunc__\u001B[39m(\n\u001B[0;32m   2111\u001B[0m     \u001B[38;5;28mself\u001B[39m, ufunc: np\u001B[38;5;241m.\u001B[39mufunc, method: \u001B[38;5;28mstr\u001B[39m, \u001B[38;5;241m*\u001B[39minputs: Any, \u001B[38;5;241m*\u001B[39m\u001B[38;5;241m*\u001B[39mkwargs: Any\n\u001B[0;32m   2112\u001B[0m ):\n\u001B[1;32m-> 2113\u001B[0m     \u001B[38;5;28;01mreturn\u001B[39;00m arraylike\u001B[38;5;241m.\u001B[39marray_ufunc(\u001B[38;5;28mself\u001B[39m, ufunc, method, \u001B[38;5;241m*\u001B[39minputs, \u001B[38;5;241m*\u001B[39m\u001B[38;5;241m*\u001B[39mkwargs)\n",
      "File \u001B[1;32m~\\PycharmProjects\\NeuralNetsLabs\\venv\\lib\\site-packages\\pandas\\core\\arraylike.py:265\u001B[0m, in \u001B[0;36marray_ufunc\u001B[1;34m(self, ufunc, method, *inputs, **kwargs)\u001B[0m\n\u001B[0;32m    262\u001B[0m     \u001B[38;5;28;01mreturn\u001B[39;00m result\n\u001B[0;32m    264\u001B[0m \u001B[38;5;66;03m# for binary ops, use our custom dunder methods\u001B[39;00m\n\u001B[1;32m--> 265\u001B[0m result \u001B[38;5;241m=\u001B[39m maybe_dispatch_ufunc_to_dunder_op(\u001B[38;5;28mself\u001B[39m, ufunc, method, \u001B[38;5;241m*\u001B[39minputs, \u001B[38;5;241m*\u001B[39m\u001B[38;5;241m*\u001B[39mkwargs)\n\u001B[0;32m    266\u001B[0m \u001B[38;5;28;01mif\u001B[39;00m result \u001B[38;5;129;01mis\u001B[39;00m \u001B[38;5;129;01mnot\u001B[39;00m \u001B[38;5;28mNotImplemented\u001B[39m:\n\u001B[0;32m    267\u001B[0m     \u001B[38;5;28;01mreturn\u001B[39;00m result\n",
      "File \u001B[1;32m~\\PycharmProjects\\NeuralNetsLabs\\venv\\lib\\site-packages\\pandas\\_libs\\ops_dispatch.pyx:113\u001B[0m, in \u001B[0;36mpandas._libs.ops_dispatch.maybe_dispatch_ufunc_to_dunder_op\u001B[1;34m()\u001B[0m\n",
      "File \u001B[1;32m~\\PycharmProjects\\NeuralNetsLabs\\venv\\lib\\site-packages\\pandas\\core\\ops\\common.py:72\u001B[0m, in \u001B[0;36m_unpack_zerodim_and_defer.<locals>.new_method\u001B[1;34m(self, other)\u001B[0m\n\u001B[0;32m     68\u001B[0m             \u001B[38;5;28;01mreturn\u001B[39;00m \u001B[38;5;28mNotImplemented\u001B[39m\n\u001B[0;32m     70\u001B[0m other \u001B[38;5;241m=\u001B[39m item_from_zerodim(other)\n\u001B[1;32m---> 72\u001B[0m \u001B[38;5;28;01mreturn\u001B[39;00m \u001B[43mmethod\u001B[49m\u001B[43m(\u001B[49m\u001B[38;5;28;43mself\u001B[39;49m\u001B[43m,\u001B[49m\u001B[43m \u001B[49m\u001B[43mother\u001B[49m\u001B[43m)\u001B[49m\n",
      "File \u001B[1;32m~\\PycharmProjects\\NeuralNetsLabs\\venv\\lib\\site-packages\\pandas\\core\\arraylike.py:122\u001B[0m, in \u001B[0;36mOpsMixin.__rmul__\u001B[1;34m(self, other)\u001B[0m\n\u001B[0;32m    120\u001B[0m \u001B[38;5;129m@unpack_zerodim_and_defer\u001B[39m(\u001B[38;5;124m\"\u001B[39m\u001B[38;5;124m__rmul__\u001B[39m\u001B[38;5;124m\"\u001B[39m)\n\u001B[0;32m    121\u001B[0m \u001B[38;5;28;01mdef\u001B[39;00m \u001B[38;5;21m__rmul__\u001B[39m(\u001B[38;5;28mself\u001B[39m, other):\n\u001B[1;32m--> 122\u001B[0m     \u001B[38;5;28;01mreturn\u001B[39;00m \u001B[38;5;28;43mself\u001B[39;49m\u001B[38;5;241;43m.\u001B[39;49m\u001B[43m_arith_method\u001B[49m\u001B[43m(\u001B[49m\u001B[43mother\u001B[49m\u001B[43m,\u001B[49m\u001B[43m \u001B[49m\u001B[43mroperator\u001B[49m\u001B[38;5;241;43m.\u001B[39;49m\u001B[43mrmul\u001B[49m\u001B[43m)\u001B[49m\n",
      "File \u001B[1;32m~\\PycharmProjects\\NeuralNetsLabs\\venv\\lib\\site-packages\\pandas\\core\\series.py:6259\u001B[0m, in \u001B[0;36mSeries._arith_method\u001B[1;34m(self, other, op)\u001B[0m\n\u001B[0;32m   6257\u001B[0m \u001B[38;5;28;01mdef\u001B[39;00m \u001B[38;5;21m_arith_method\u001B[39m(\u001B[38;5;28mself\u001B[39m, other, op):\n\u001B[0;32m   6258\u001B[0m     \u001B[38;5;28mself\u001B[39m, other \u001B[38;5;241m=\u001B[39m ops\u001B[38;5;241m.\u001B[39malign_method_SERIES(\u001B[38;5;28mself\u001B[39m, other)\n\u001B[1;32m-> 6259\u001B[0m     \u001B[38;5;28;01mreturn\u001B[39;00m \u001B[43mbase\u001B[49m\u001B[38;5;241;43m.\u001B[39;49m\u001B[43mIndexOpsMixin\u001B[49m\u001B[38;5;241;43m.\u001B[39;49m\u001B[43m_arith_method\u001B[49m\u001B[43m(\u001B[49m\u001B[38;5;28;43mself\u001B[39;49m\u001B[43m,\u001B[49m\u001B[43m \u001B[49m\u001B[43mother\u001B[49m\u001B[43m,\u001B[49m\u001B[43m \u001B[49m\u001B[43mop\u001B[49m\u001B[43m)\u001B[49m\n",
      "File \u001B[1;32m~\\PycharmProjects\\NeuralNetsLabs\\venv\\lib\\site-packages\\pandas\\core\\base.py:1325\u001B[0m, in \u001B[0;36mIndexOpsMixin._arith_method\u001B[1;34m(self, other, op)\u001B[0m\n\u001B[0;32m   1322\u001B[0m rvalues \u001B[38;5;241m=\u001B[39m ensure_wrapped_if_datetimelike(rvalues)\n\u001B[0;32m   1324\u001B[0m \u001B[38;5;28;01mwith\u001B[39;00m np\u001B[38;5;241m.\u001B[39merrstate(\u001B[38;5;28mall\u001B[39m\u001B[38;5;241m=\u001B[39m\u001B[38;5;124m\"\u001B[39m\u001B[38;5;124mignore\u001B[39m\u001B[38;5;124m\"\u001B[39m):\n\u001B[1;32m-> 1325\u001B[0m     result \u001B[38;5;241m=\u001B[39m \u001B[43mops\u001B[49m\u001B[38;5;241;43m.\u001B[39;49m\u001B[43marithmetic_op\u001B[49m\u001B[43m(\u001B[49m\u001B[43mlvalues\u001B[49m\u001B[43m,\u001B[49m\u001B[43m \u001B[49m\u001B[43mrvalues\u001B[49m\u001B[43m,\u001B[49m\u001B[43m \u001B[49m\u001B[43mop\u001B[49m\u001B[43m)\u001B[49m\n\u001B[0;32m   1327\u001B[0m \u001B[38;5;28;01mreturn\u001B[39;00m \u001B[38;5;28mself\u001B[39m\u001B[38;5;241m.\u001B[39m_construct_result(result, name\u001B[38;5;241m=\u001B[39mres_name)\n",
      "File \u001B[1;32m~\\PycharmProjects\\NeuralNetsLabs\\venv\\lib\\site-packages\\pandas\\core\\ops\\array_ops.py:226\u001B[0m, in \u001B[0;36marithmetic_op\u001B[1;34m(left, right, op)\u001B[0m\n\u001B[0;32m    222\u001B[0m     _bool_arith_check(op, left, right)\n\u001B[0;32m    224\u001B[0m     \u001B[38;5;66;03m# error: Argument 1 to \"_na_arithmetic_op\" has incompatible type\u001B[39;00m\n\u001B[0;32m    225\u001B[0m     \u001B[38;5;66;03m# \"Union[ExtensionArray, ndarray[Any, Any]]\"; expected \"ndarray[Any, Any]\"\u001B[39;00m\n\u001B[1;32m--> 226\u001B[0m     res_values \u001B[38;5;241m=\u001B[39m \u001B[43m_na_arithmetic_op\u001B[49m\u001B[43m(\u001B[49m\u001B[43mleft\u001B[49m\u001B[43m,\u001B[49m\u001B[43m \u001B[49m\u001B[43mright\u001B[49m\u001B[43m,\u001B[49m\u001B[43m \u001B[49m\u001B[43mop\u001B[49m\u001B[43m)\u001B[49m  \u001B[38;5;66;03m# type: ignore[arg-type]\u001B[39;00m\n\u001B[0;32m    228\u001B[0m \u001B[38;5;28;01mreturn\u001B[39;00m res_values\n",
      "File \u001B[1;32m~\\PycharmProjects\\NeuralNetsLabs\\venv\\lib\\site-packages\\pandas\\core\\ops\\array_ops.py:165\u001B[0m, in \u001B[0;36m_na_arithmetic_op\u001B[1;34m(left, right, op, is_cmp)\u001B[0m\n\u001B[0;32m    162\u001B[0m     func \u001B[38;5;241m=\u001B[39m partial(expressions\u001B[38;5;241m.\u001B[39mevaluate, op)\n\u001B[0;32m    164\u001B[0m \u001B[38;5;28;01mtry\u001B[39;00m:\n\u001B[1;32m--> 165\u001B[0m     result \u001B[38;5;241m=\u001B[39m \u001B[43mfunc\u001B[49m\u001B[43m(\u001B[49m\u001B[43mleft\u001B[49m\u001B[43m,\u001B[49m\u001B[43m \u001B[49m\u001B[43mright\u001B[49m\u001B[43m)\u001B[49m\n\u001B[0;32m    166\u001B[0m \u001B[38;5;28;01mexcept\u001B[39;00m \u001B[38;5;167;01mTypeError\u001B[39;00m:\n\u001B[0;32m    167\u001B[0m     \u001B[38;5;28;01mif\u001B[39;00m \u001B[38;5;129;01mnot\u001B[39;00m is_cmp \u001B[38;5;129;01mand\u001B[39;00m (is_object_dtype(left\u001B[38;5;241m.\u001B[39mdtype) \u001B[38;5;129;01mor\u001B[39;00m is_object_dtype(right)):\n\u001B[0;32m    168\u001B[0m         \u001B[38;5;66;03m# For object dtype, fallback to a masked operation (only operating\u001B[39;00m\n\u001B[0;32m    169\u001B[0m         \u001B[38;5;66;03m#  on the non-missing values)\u001B[39;00m\n\u001B[0;32m    170\u001B[0m         \u001B[38;5;66;03m# Don't do this for comparisons, as that will handle complex numbers\u001B[39;00m\n\u001B[0;32m    171\u001B[0m         \u001B[38;5;66;03m#  incorrectly, see GH#32047\u001B[39;00m\n",
      "File \u001B[1;32m~\\PycharmProjects\\NeuralNetsLabs\\venv\\lib\\site-packages\\pandas\\core\\computation\\expressions.py:241\u001B[0m, in \u001B[0;36mevaluate\u001B[1;34m(op, a, b, use_numexpr)\u001B[0m\n\u001B[0;32m    238\u001B[0m \u001B[38;5;28;01mif\u001B[39;00m op_str \u001B[38;5;129;01mis\u001B[39;00m \u001B[38;5;129;01mnot\u001B[39;00m \u001B[38;5;28;01mNone\u001B[39;00m:\n\u001B[0;32m    239\u001B[0m     \u001B[38;5;28;01mif\u001B[39;00m use_numexpr:\n\u001B[0;32m    240\u001B[0m         \u001B[38;5;66;03m# error: \"None\" not callable\u001B[39;00m\n\u001B[1;32m--> 241\u001B[0m         \u001B[38;5;28;01mreturn\u001B[39;00m \u001B[43m_evaluate\u001B[49m\u001B[43m(\u001B[49m\u001B[43mop\u001B[49m\u001B[43m,\u001B[49m\u001B[43m \u001B[49m\u001B[43mop_str\u001B[49m\u001B[43m,\u001B[49m\u001B[43m \u001B[49m\u001B[43ma\u001B[49m\u001B[43m,\u001B[49m\u001B[43m \u001B[49m\u001B[43mb\u001B[49m\u001B[43m)\u001B[49m  \u001B[38;5;66;03m# type: ignore[misc]\u001B[39;00m\n\u001B[0;32m    242\u001B[0m \u001B[38;5;28;01mreturn\u001B[39;00m _evaluate_standard(op, op_str, a, b)\n",
      "File \u001B[1;32m~\\PycharmProjects\\NeuralNetsLabs\\venv\\lib\\site-packages\\pandas\\core\\computation\\expressions.py:70\u001B[0m, in \u001B[0;36m_evaluate_standard\u001B[1;34m(op, op_str, a, b)\u001B[0m\n\u001B[0;32m     68\u001B[0m \u001B[38;5;28;01mif\u001B[39;00m _TEST_MODE:\n\u001B[0;32m     69\u001B[0m     _store_test_result(\u001B[38;5;28;01mFalse\u001B[39;00m)\n\u001B[1;32m---> 70\u001B[0m \u001B[38;5;28;01mreturn\u001B[39;00m \u001B[43mop\u001B[49m\u001B[43m(\u001B[49m\u001B[43ma\u001B[49m\u001B[43m,\u001B[49m\u001B[43m \u001B[49m\u001B[43mb\u001B[49m\u001B[43m)\u001B[49m\n",
      "File \u001B[1;32m~\\PycharmProjects\\NeuralNetsLabs\\venv\\lib\\site-packages\\pandas\\core\\roperator.py:19\u001B[0m, in \u001B[0;36mrmul\u001B[1;34m(left, right)\u001B[0m\n\u001B[0;32m     18\u001B[0m \u001B[38;5;28;01mdef\u001B[39;00m \u001B[38;5;21mrmul\u001B[39m(left, right):\n\u001B[1;32m---> 19\u001B[0m     \u001B[38;5;28;01mreturn\u001B[39;00m \u001B[43mright\u001B[49m\u001B[43m \u001B[49m\u001B[38;5;241;43m*\u001B[39;49m\u001B[43m \u001B[49m\u001B[43mleft\u001B[49m\n",
      "\u001B[1;31mValueError\u001B[0m: operands could not be broadcast together with shapes (10,40) (2,) "
     ]
    }
   ],
   "source": [
    "for epoch in range(epochs):\n",
    "    for row_id, _ in kgf_df.iterrows():\n",
    "        error_sign, layers_inputs = direct_sequence(\n",
    "            target_data.iloc[row_id],\n",
    "            features_data.iloc[row_id]\n",
    "        )\n",
    "        back_propagation(error_sign)\n",
    "\n",
    "#print(mse)\n",
    "#output mse in the file\n"
   ],
   "metadata": {
    "collapsed": false
   }
  },
  {
   "cell_type": "markdown",
   "source": [
    "# Разделение выборки на тестовую и обучающую"
   ],
   "metadata": {
    "collapsed": false
   }
  },
  {
   "cell_type": "code",
   "execution_count": 5,
   "outputs": [],
   "source": [
    "def split_dataset(df: pd.DataFrame, learn_percent: int, target_columns: list) -> typing.Tuple:\n",
    "    if learn_percent < 0 or learn_percent > 100:# or learn_percent < 50:\n",
    "        return None, None\n",
    "\n",
    "    no_nans = df[(~np.isnan(df[target_columns]).any(axis=1)) & ~np.isnan(df[target_columns]).all(axis=1)]\n",
    "    some_nans = df[(~np.isnan(df[target_columns])).any(axis=1) & (np.isnan(df[target_columns])).any(axis=1)]\n",
    "\n",
    "    num_in_learn_no_nans = int(len(no_nans.index) / 100 * learn_percent)\n",
    "    num_in_learn_some_nans = int(len(some_nans.index) / 100 * learn_percent)\n",
    "\n",
    "    learn_no_nans = no_nans.sample(num_in_learn_no_nans)\n",
    "    learn_some_nans = some_nans.sample(num_in_learn_some_nans)\n",
    "\n",
    "    test_no_nans = no_nans.merge(learn_no_nans, how='left', indicator=True) \\\n",
    "        .query(\"_merge == 'left_only'\").drop('_merge', axis=1)[no_nans.columns]\n",
    "    test_some_nans = some_nans.merge(learn_some_nans, how='left', indicator=True) \\\n",
    "        .query(\"_merge == 'left_only'\").drop('_merge', axis=1)[some_nans.columns]\n",
    "\n",
    "    learn = pd.concat([learn_no_nans, learn_some_nans], ignore_index=True)\n",
    "    test = pd.concat([test_no_nans, test_some_nans], ignore_index=True)\n",
    "\n",
    "    return learn.sample(n=len(learn.index)).reset_index(drop=True), test"
   ],
   "metadata": {
    "collapsed": false,
    "ExecuteTime": {
     "end_time": "2023-05-17T03:53:00.330493Z",
     "start_time": "2023-05-17T03:53:00.281096400Z"
    }
   }
  },
  {
   "cell_type": "markdown",
   "source": [
    "# Регрессионная модель на примере со скважинами"
   ],
   "metadata": {
    "collapsed": false
   }
  },
  {
   "cell_type": "markdown",
   "source": [
    "### Произведем разбивку на тестовую и обучающую"
   ],
   "metadata": {
    "collapsed": false
   }
  },
  {
   "cell_type": "code",
   "execution_count": 7,
   "outputs": [
    {
     "name": "stdout",
     "output_type": "stream",
     "text": [
      "22\n"
     ]
    }
   ],
   "source": [
    "df = pd.read_csv(\"Очищенный датасет скважины.csv\")\n",
    "learn, test = split_dataset(df, learn_percent = 80, target_columns = df.columns[-2:])\n",
    "print(len(df.columns))"
   ],
   "metadata": {
    "collapsed": false,
    "ExecuteTime": {
     "end_time": "2023-05-17T03:55:09.332206Z",
     "start_time": "2023-05-17T03:55:09.170038300Z"
    }
   }
  },
  {
   "cell_type": "markdown",
   "source": [
    "Дифференцируем: dE(n) / dwij(n) = ej(n) * (-1) * phi'(vi(n)) * yj(n)\n",
    "vi - сумма выходных сигналов нейрона"
   ],
   "metadata": {
    "collapsed": false
   }
  },
  {
   "cell_type": "code",
   "execution_count": null,
   "outputs": [],
   "source": [
    "def dE_dw():\n",
    "    error_signal() * diff_sigmoid(summator(x,w)) * output_signal(x, w)"
   ],
   "metadata": {
    "collapsed": false
   }
  },
  {
   "cell_type": "markdown",
   "source": [
    "# Градиентный спуск"
   ],
   "metadata": {
    "collapsed": false
   }
  },
  {
   "cell_type": "markdown",
   "source": [
    "* Оригинальный - долго. Гоняет туда-сюда.\n",
    "* Стохастический - за один прогон. То что запомнили за прямой прогон. Один раз туда, один раз прогнали и затем применили.\n",
    "* Пакетный - берём не всю, а батчевый. Мы будем гнать не по 200, не по одной, а, допустим, по 10. И затем для пакета все это применим\n",
    "\n",
    "Синопс, а не нейрон. Разные сущности.\n",
    "Прогнали, запомнили. На какойто посчитали для входного, затем выходного. Применили веса."
   ],
   "metadata": {
    "collapsed": false
   }
  },
  {
   "cell_type": "markdown",
   "source": [
    "# Регуляризация (по желанию)"
   ],
   "metadata": {
    "collapsed": false
   }
  },
  {
   "cell_type": "markdown",
   "source": [
    "Рекомендутся сделать элементарный стохастический град спуск. Считать по формулам со слайда"
   ],
   "metadata": {
    "collapsed": false
   }
  },
  {
   "cell_type": "markdown",
   "source": [
    "Сигмоида только с положительными. Гипер Тангенс - знак. ReLu про другое.\n",
    "Главное, что число гиперпараметров сети должно было хватить, чтобы обобщить.\n",
    "Нейронка не должна быть маленькой.\n",
    "Два слоя по 50 нейронов. (Чувак показывал, всё получилось)\n",
    "R2 score посчитать, MSE. Обобщаем на многомерный случай. ROC-AUC можно."
   ],
   "metadata": {
    "collapsed": false
   }
  },
  {
   "cell_type": "markdown",
   "source": [
    "# 70% - 30%. Обучать на тестовой"
   ],
   "metadata": {
    "collapsed": false
   }
  }
 ],
 "metadata": {
  "kernelspec": {
   "display_name": "Python 3",
   "language": "python",
   "name": "python3"
  },
  "language_info": {
   "codemirror_mode": {
    "name": "ipython",
    "version": 2
   },
   "file_extension": ".py",
   "mimetype": "text/x-python",
   "name": "python",
   "nbconvert_exporter": "python",
   "pygments_lexer": "ipython2",
   "version": "2.7.6"
  }
 },
 "nbformat": 4,
 "nbformat_minor": 0
}
