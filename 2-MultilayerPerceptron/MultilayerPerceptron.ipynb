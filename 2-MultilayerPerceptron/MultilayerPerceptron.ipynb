{
 "cells": [
  {
   "cell_type": "markdown",
   "source": [
    "# Загрузка библиотек"
   ],
   "metadata": {
    "collapsed": false
   },
   "execution_count": 1
  },
  {
   "cell_type": "code",
   "execution_count": 269,
   "outputs": [],
   "source": [
    "import numpy as np\n",
    "import pandas as pd\n",
    "import typing"
   ],
   "metadata": {
    "collapsed": false,
    "ExecuteTime": {
     "end_time": "2023-05-17T07:19:11.247264900Z",
     "start_time": "2023-05-17T07:19:10.729492200Z"
    }
   }
  },
  {
   "cell_type": "markdown",
   "source": [
    "## Функция сигнала ошибки"
   ],
   "metadata": {
    "collapsed": false
   }
  },
  {
   "cell_type": "code",
   "execution_count": 270,
   "outputs": [],
   "source": [
    "def error_signal(desired, actual):\n",
    "    return desired - actual"
   ],
   "metadata": {
    "collapsed": false,
    "ExecuteTime": {
     "end_time": "2023-05-17T07:19:11.545431Z",
     "start_time": "2023-05-17T07:19:10.745122500Z"
    }
   }
  },
  {
   "cell_type": "markdown",
   "source": [
    "## Общая энергия ошибки"
   ],
   "metadata": {
    "collapsed": false
   }
  },
  {
   "cell_type": "markdown",
   "source": [
    "ej(n) = dj(n) - yj(n)"
   ],
   "metadata": {
    "collapsed": false
   }
  },
  {
   "cell_type": "code",
   "execution_count": 271,
   "outputs": [],
   "source": [
    "def error_energy(desired, actual):\n",
    "    return 0.5 * np.sum(np.float_power(error_signal(desired, actual), 2))"
   ],
   "metadata": {
    "collapsed": false,
    "ExecuteTime": {
     "end_time": "2023-05-17T07:19:11.545431Z",
     "start_time": "2023-05-17T07:19:10.776780400Z"
    }
   }
  },
  {
   "cell_type": "markdown",
   "source": [
    "## Функция стоимости - мера эффективности обучения"
   ],
   "metadata": {
    "collapsed": false
   }
  },
  {
   "cell_type": "code",
   "execution_count": 272,
   "outputs": [],
   "source": [
    "def cost_function(desired, actual):\n",
    "    return error_energy(desired, actual)"
   ],
   "metadata": {
    "collapsed": false,
    "ExecuteTime": {
     "end_time": "2023-05-17T07:19:11.545431Z",
     "start_time": "2023-05-17T07:19:10.792421900Z"
    }
   }
  },
  {
   "cell_type": "markdown",
   "source": [
    "## Сигмоида"
   ],
   "metadata": {
    "collapsed": false
   }
  },
  {
   "cell_type": "code",
   "execution_count": 273,
   "outputs": [],
   "source": [
    "def diff_sigmoid(S: float, a: float = 1.0):\n",
    "    a * np.exp(-S * a) * sigmoid(S, a) ** 2"
   ],
   "metadata": {
    "collapsed": false,
    "ExecuteTime": {
     "end_time": "2023-05-17T07:19:11.545431Z",
     "start_time": "2023-05-17T07:19:10.808052100Z"
    }
   }
  },
  {
   "cell_type": "markdown",
   "source": [
    "Функция сигмоиды:\n",
    "![sigmoid](sigmoid.png)"
   ],
   "metadata": {
    "collapsed": false
   }
  },
  {
   "cell_type": "code",
   "execution_count": 274,
   "outputs": [],
   "source": [
    "def sigmoid(S, a: float = 1.0):\n",
    "    return np.div(1.0, np.sum(np.exp(np.mul(S, -a)), 1))"
   ],
   "metadata": {
    "collapsed": false,
    "ExecuteTime": {
     "end_time": "2023-05-17T07:19:11.577088500Z",
     "start_time": "2023-05-17T07:19:10.823670300Z"
    }
   }
  },
  {
   "cell_type": "markdown",
   "source": [
    "## Сумматор"
   ],
   "metadata": {
    "collapsed": false
   }
  },
  {
   "cell_type": "code",
   "execution_count": 275,
   "outputs": [],
   "source": [
    "def summator(w, x):\n",
    "    return np.dot(w, x)"
   ],
   "metadata": {
    "collapsed": false,
    "ExecuteTime": {
     "end_time": "2023-05-17T07:19:11.577088500Z",
     "start_time": "2023-05-17T07:19:10.839295900Z"
    }
   }
  },
  {
   "cell_type": "markdown",
   "source": [
    "## Выходной сигнал"
   ],
   "metadata": {
    "collapsed": false
   }
  },
  {
   "cell_type": "code",
   "execution_count": 276,
   "outputs": [],
   "source": [
    "def output_signal(x, w):\n",
    "    return sigmoid(summator(x, w))"
   ],
   "metadata": {
    "collapsed": false,
    "ExecuteTime": {
     "end_time": "2023-05-17T07:19:11.577088500Z",
     "start_time": "2023-05-17T07:19:10.854920100Z"
    }
   }
  },
  {
   "cell_type": "markdown",
   "source": [
    "## Среднеквадратическая ошибка"
   ],
   "metadata": {
    "collapsed": false
   }
  },
  {
   "cell_type": "markdown",
   "source": [
    "def mse(error):\n",
    "    np.sum(np.float_power(error, 2))"
   ],
   "metadata": {
    "collapsed": false
   }
  },
  {
   "cell_type": "markdown",
   "source": [
    "# Заполнение весов"
   ],
   "metadata": {
    "collapsed": false
   }
  },
  {
   "cell_type": "markdown",
   "source": [
    "Т.к. без понятия, как подобрать начальный вес, воспользуемся рандомом в границах от -2 до 2. Можно от 0 до 1"
   ],
   "metadata": {
    "collapsed": false
   }
  },
  {
   "cell_type": "code",
   "execution_count": 277,
   "outputs": [],
   "source": [
    "def weight_matrix_init(neuorons_count: int, vector_size: int):\n",
    "    matrix = np.empty([neuorons_count, vector_size], dtype=float)\n",
    "    return matrix - (matrix // 2) * 2"
   ],
   "metadata": {
    "collapsed": false,
    "ExecuteTime": {
     "end_time": "2023-05-17T07:19:11.608900300Z",
     "start_time": "2023-05-17T07:19:10.886589400Z"
    }
   }
  },
  {
   "cell_type": "markdown",
   "source": [
    "# Нормализация данных"
   ],
   "metadata": {
    "collapsed": false
   }
  },
  {
   "cell_type": "code",
   "execution_count": 278,
   "outputs": [],
   "source": [
    "def data_normalise(data: pd.Series):\n",
    "    return (data - learn_saved_max) / (learn_saved_max - learn_saved_min)"
   ],
   "metadata": {
    "collapsed": false,
    "ExecuteTime": {
     "end_time": "2023-05-17T07:19:11.608900300Z",
     "start_time": "2023-05-17T07:19:10.902221900Z"
    }
   }
  },
  {
   "cell_type": "markdown",
   "source": [
    "# Денормализация данных"
   ],
   "metadata": {
    "collapsed": false
   }
  },
  {
   "cell_type": "code",
   "execution_count": 279,
   "outputs": [],
   "source": [
    "def data_denormalise(data: pd.Series):\n",
    "    return data * (learn_saved_max - learn_saved_min) + learn_saved_min"
   ],
   "metadata": {
    "collapsed": false,
    "ExecuteTime": {
     "end_time": "2023-05-17T07:19:11.608900300Z",
     "start_time": "2023-05-17T07:19:10.917844800Z"
    }
   }
  },
  {
   "cell_type": "markdown",
   "source": [
    "# Выполнение слоя с сигмоидой"
   ],
   "metadata": {
    "collapsed": false
   }
  },
  {
   "cell_type": "code",
   "execution_count": 280,
   "outputs": [],
   "source": [
    "def runLayer(input_data, layer):\n",
    "    return sigmoid(layer * input_data)\n"
   ],
   "metadata": {
    "collapsed": false,
    "ExecuteTime": {
     "end_time": "2023-05-17T07:19:11.608900300Z",
     "start_time": "2023-05-17T07:19:10.933469900Z"
    }
   }
  },
  {
   "cell_type": "markdown",
   "source": [
    "# Прямой проход"
   ],
   "metadata": {
    "collapsed": false
   }
  },
  {
   "cell_type": "code",
   "execution_count": 281,
   "outputs": [],
   "source": [
    "def forward(input_data, target):\n",
    "    first_layer_res = runLayer(input_data, first_layer_weights)\n",
    "    second_layer_res = runLayer(first_layer_res, second_layer_weights)\n",
    "    return error_signal(target, second_layer_res), [first_layer_res, second_layer_res]"
   ],
   "metadata": {
    "collapsed": false,
    "ExecuteTime": {
     "end_time": "2023-05-17T07:19:11.608900300Z",
     "start_time": "2023-05-17T07:19:10.949098600Z"
    }
   }
  },
  {
   "cell_type": "markdown",
   "source": [
    "![title](local_grad_output.png)"
   ],
   "metadata": {
    "collapsed": false
   }
  },
  {
   "cell_type": "code",
   "execution_count": 282,
   "outputs": [],
   "source": [
    "def weight_output_delta(error_signal, layer_input):\n",
    "    return error_signal * diff_sigmoid(layer_input)"
   ],
   "metadata": {
    "collapsed": false,
    "ExecuteTime": {
     "end_time": "2023-05-17T07:19:11.640185100Z",
     "start_time": "2023-05-17T07:19:10.968748Z"
    }
   }
  },
  {
   "cell_type": "markdown",
   "source": [
    "![title](local_gard_hidden.png)"
   ],
   "metadata": {
    "collapsed": false
   }
  },
  {
   "cell_type": "code",
   "execution_count": 283,
   "outputs": [],
   "source": [
    "def weight_hidden_delta(layer_delta, layer_input, layer_weight):\n",
    "    return diff_sigmoid(np.sum(layer_input)) * np.dot(layer_delta, layer_weight)"
   ],
   "metadata": {
    "collapsed": false,
    "ExecuteTime": {
     "end_time": "2023-05-17T07:19:11.640185100Z",
     "start_time": "2023-05-17T07:19:10.980765900Z"
    }
   }
  },
  {
   "cell_type": "markdown",
   "source": [
    "![title](delta_rule.png)"
   ],
   "metadata": {
    "collapsed": false
   }
  },
  {
   "cell_type": "markdown",
   "source": [
    "/\\wji(n) = teta * delta(n) * yi(n)\n",
    "teta = одна сотая, тысячная ... (на сколько мы строги в обучении ребёнка)\n",
    "Есть два градиента: для выходного слоя, есть для скрытого слоя."
   ],
   "metadata": {
    "collapsed": false
   }
  },
  {
   "cell_type": "code",
   "execution_count": 284,
   "outputs": [],
   "source": [
    "def delta_rule(delta, layer_output, tetta: float = 0.01):\n",
    "    return tetta * pd.mul(delta, layer_output)"
   ],
   "metadata": {
    "collapsed": false,
    "ExecuteTime": {
     "end_time": "2023-05-17T07:19:11.640185100Z",
     "start_time": "2023-05-17T07:19:11.012031800Z"
    }
   }
  },
  {
   "cell_type": "code",
   "execution_count": 285,
   "outputs": [],
   "source": [
    "def back_propagation(\n",
    "        error_sign,\n",
    "        layers_inputs,\n",
    "        first_layer_weights,\n",
    "        second_layer_weights\n",
    "):\n",
    "    output_delta = weight_output_delta(error_sign, layers_inputs[1])\n",
    "    second_layer_delta = weight_hidden_delta(output_delta, layers_inputs[0])\n",
    "    second_layer_weights +=  layers_inputs[2] * output_delta\n",
    "    first_layer_weights += layers_inputs[1] * second_layer_delta"
   ],
   "metadata": {
    "collapsed": false,
    "ExecuteTime": {
     "end_time": "2023-05-17T07:19:11.640185100Z",
     "start_time": "2023-05-17T07:19:11.027659100Z"
    }
   }
  },
  {
   "cell_type": "markdown",
   "source": [
    "# Подсчёт среднеквадратичной ошибки"
   ],
   "metadata": {
    "collapsed": false
   }
  },
  {
   "cell_type": "code",
   "execution_count": 286,
   "outputs": [],
   "source": [
    "# def mse():\n"
   ],
   "metadata": {
    "collapsed": false,
    "ExecuteTime": {
     "end_time": "2023-05-17T07:19:11.640185100Z",
     "start_time": "2023-05-17T07:19:11.043285500Z"
    }
   }
  },
  {
   "cell_type": "markdown",
   "source": [],
   "metadata": {
    "collapsed": false
   }
  },
  {
   "cell_type": "markdown",
   "source": [
    "# Регрессионная модель на примере со скважинами"
   ],
   "metadata": {
    "collapsed": false
   }
  },
  {
   "cell_type": "markdown",
   "source": [
    "### Произведем разбивку на тестовую и обучающую"
   ],
   "metadata": {
    "collapsed": false
   }
  },
  {
   "cell_type": "code",
   "execution_count": 287,
   "outputs": [],
   "source": [
    "df = pd.read_csv(\"Очищенный датасет скважины.csv\")"
   ],
   "metadata": {
    "collapsed": false,
    "ExecuteTime": {
     "end_time": "2023-05-17T07:19:11.640185100Z",
     "start_time": "2023-05-17T07:19:11.058907200Z"
    }
   }
  },
  {
   "cell_type": "markdown",
   "source": [
    "## Перевод в numeric"
   ],
   "metadata": {
    "collapsed": false
   }
  },
  {
   "cell_type": "code",
   "execution_count": 288,
   "outputs": [],
   "source": [
    "for key in df.keys().values:\n",
    "    column = df.get(key=key)\n",
    "\n",
    "    if key != \"дд.мм.гггг\":\n",
    "        column = pd.to_numeric(column, errors='coerce')\n",
    "    else:\n",
    "        column = pd.to_datetime(column, errors='coerce')\n",
    "\n",
    "    df.pop(key)\n",
    "    df[key] = column"
   ],
   "metadata": {
    "collapsed": false,
    "ExecuteTime": {
     "end_time": "2023-05-17T07:19:11.687559500Z",
     "start_time": "2023-05-17T07:19:11.090581800Z"
    }
   }
  },
  {
   "cell_type": "code",
   "execution_count": 289,
   "outputs": [
    {
     "name": "stdout",
     "output_type": "stream",
     "text": [
      "22\n"
     ]
    }
   ],
   "source": [
    "\n",
    "target_set = ['КГФ т/тыс.м3', 'G_total кг/с']\n",
    "learn = df.head(len(df) * 80 // 100)\n",
    "test = df.tail(len(df) * 20 // 100)\n",
    "print(len(df.columns))"
   ],
   "metadata": {
    "collapsed": false,
    "ExecuteTime": {
     "end_time": "2023-05-17T07:19:11.687559500Z",
     "start_time": "2023-05-17T07:19:11.121828700Z"
    }
   }
  },
  {
   "cell_type": "markdown",
   "source": [
    "### Нормализация данных"
   ],
   "metadata": {
    "collapsed": false
   }
  },
  {
   "cell_type": "code",
   "execution_count": 290,
   "outputs": [],
   "source": [
    "learn_saved_max = learn.max()\n",
    "learn_saved_min = learn.min()\n",
    "\n",
    "learn = data_normalise(learn)"
   ],
   "metadata": {
    "collapsed": false,
    "ExecuteTime": {
     "end_time": "2023-05-17T07:19:11.687559500Z",
     "start_time": "2023-05-17T07:19:11.137453300Z"
    }
   }
  },
  {
   "cell_type": "markdown",
   "source": [
    "### Инициализация весов слоёв"
   ],
   "metadata": {
    "collapsed": false
   }
  },
  {
   "cell_type": "code",
   "execution_count": 291,
   "outputs": [],
   "source": [
    "neurons_first_layer_count = 120\n",
    "neurons_second_layer_count = 60"
   ],
   "metadata": {
    "collapsed": false,
    "ExecuteTime": {
     "end_time": "2023-05-17T07:19:11.687559500Z",
     "start_time": "2023-05-17T07:19:11.169230200Z"
    }
   }
  },
  {
   "cell_type": "code",
   "execution_count": 292,
   "outputs": [],
   "source": [
    "first_layer_weights = weight_matrix_init(neurons_first_layer_count, len(df.columns) - len(target_set))\n",
    "second_layer_weights = weight_matrix_init(neurons_second_layer_count, neurons_first_layer_count)"
   ],
   "metadata": {
    "collapsed": false,
    "ExecuteTime": {
     "end_time": "2023-05-17T07:19:11.687559500Z",
     "start_time": "2023-05-17T07:19:11.184742500Z"
    }
   }
  },
  {
   "cell_type": "markdown",
   "source": [
    "# Обучение"
   ],
   "metadata": {
    "collapsed": false
   }
  },
  {
   "cell_type": "code",
   "execution_count": 293,
   "outputs": [],
   "source": [
    "epochs = 500\n",
    "feature_data = learn.drop(target_set, axis=1)\n",
    "target_data = learn[target_set]"
   ],
   "metadata": {
    "collapsed": false,
    "ExecuteTime": {
     "end_time": "2023-05-17T07:19:11.687559500Z",
     "start_time": "2023-05-17T07:19:11.200390Z"
    }
   }
  },
  {
   "cell_type": "code",
   "execution_count": 294,
   "outputs": [
    {
     "ename": "ValueError",
     "evalue": "operands could not be broadcast together with shapes (20,120) (20,) ",
     "output_type": "error",
     "traceback": [
      "\u001B[1;31m---------------------------------------------------------------------------\u001B[0m",
      "\u001B[1;31mValueError\u001B[0m                                Traceback (most recent call last)",
      "Cell \u001B[1;32mIn[294], line 3\u001B[0m\n\u001B[0;32m      1\u001B[0m \u001B[38;5;28;01mfor\u001B[39;00m epoch \u001B[38;5;129;01min\u001B[39;00m \u001B[38;5;28mrange\u001B[39m(epochs):\n\u001B[0;32m      2\u001B[0m     \u001B[38;5;28;01mfor\u001B[39;00m row_id, _ \u001B[38;5;129;01min\u001B[39;00m df\u001B[38;5;241m.\u001B[39miterrows():\n\u001B[1;32m----> 3\u001B[0m         error_sign, layers_inputs \u001B[38;5;241m=\u001B[39m \u001B[43mforward\u001B[49m\u001B[43m(\u001B[49m\n\u001B[0;32m      4\u001B[0m \u001B[43m            \u001B[49m\u001B[43mfeature_data\u001B[49m\u001B[38;5;241;43m.\u001B[39;49m\u001B[43miloc\u001B[49m\u001B[43m[\u001B[49m\u001B[43mrow_id\u001B[49m\u001B[43m]\u001B[49m\u001B[43m,\u001B[49m\n\u001B[0;32m      5\u001B[0m \u001B[43m            \u001B[49m\u001B[43mtarget_data\u001B[49m\u001B[38;5;241;43m.\u001B[39;49m\u001B[43miloc\u001B[49m\u001B[43m[\u001B[49m\u001B[43mrow_id\u001B[49m\u001B[43m]\u001B[49m\n\u001B[0;32m      6\u001B[0m \u001B[43m        \u001B[49m\u001B[43m)\u001B[49m\n\u001B[0;32m      7\u001B[0m         back_propagation(error_sign)\n\u001B[0;32m      9\u001B[0m         \u001B[38;5;28;01mif\u001B[39;00m epoch \u001B[38;5;241m%\u001B[39m \u001B[38;5;241m100\u001B[39m \u001B[38;5;241m==\u001B[39m \u001B[38;5;241m0\u001B[39m \u001B[38;5;129;01mand\u001B[39;00m row_id \u001B[38;5;241m==\u001B[39m \u001B[38;5;241m1\u001B[39m:\n",
      "Cell \u001B[1;32mIn[281], line 2\u001B[0m, in \u001B[0;36mforward\u001B[1;34m(input_data, target)\u001B[0m\n\u001B[0;32m      1\u001B[0m \u001B[38;5;28;01mdef\u001B[39;00m \u001B[38;5;21mforward\u001B[39m(input_data, target):\n\u001B[1;32m----> 2\u001B[0m     first_layer_res \u001B[38;5;241m=\u001B[39m \u001B[43mrunLayer\u001B[49m\u001B[43m(\u001B[49m\u001B[43minput_data\u001B[49m\u001B[43m,\u001B[49m\u001B[43m \u001B[49m\u001B[43mfirst_layer_weights\u001B[49m\u001B[43m)\u001B[49m\n\u001B[0;32m      3\u001B[0m     second_layer_res \u001B[38;5;241m=\u001B[39m runLayer(first_layer_res, second_layer_weights)\n\u001B[0;32m      4\u001B[0m     \u001B[38;5;28;01mreturn\u001B[39;00m error_signal(target, second_layer_res), [first_layer_res, second_layer_res]\n",
      "Cell \u001B[1;32mIn[280], line 2\u001B[0m, in \u001B[0;36mrunLayer\u001B[1;34m(input_data, layer)\u001B[0m\n\u001B[0;32m      1\u001B[0m \u001B[38;5;28;01mdef\u001B[39;00m \u001B[38;5;21mrunLayer\u001B[39m(input_data, layer):\n\u001B[1;32m----> 2\u001B[0m     \u001B[38;5;28;01mreturn\u001B[39;00m sigmoid(\u001B[43mlayer\u001B[49m\u001B[43m \u001B[49m\u001B[38;5;241;43m*\u001B[39;49m\u001B[43m \u001B[49m\u001B[43minput_data\u001B[49m)\n",
      "File \u001B[1;32m~\\PycharmProjects\\NeuralNetsLabs\\venv\\lib\\site-packages\\pandas\\core\\generic.py:2113\u001B[0m, in \u001B[0;36mNDFrame.__array_ufunc__\u001B[1;34m(self, ufunc, method, *inputs, **kwargs)\u001B[0m\n\u001B[0;32m   2109\u001B[0m \u001B[38;5;129m@final\u001B[39m\n\u001B[0;32m   2110\u001B[0m \u001B[38;5;28;01mdef\u001B[39;00m \u001B[38;5;21m__array_ufunc__\u001B[39m(\n\u001B[0;32m   2111\u001B[0m     \u001B[38;5;28mself\u001B[39m, ufunc: np\u001B[38;5;241m.\u001B[39mufunc, method: \u001B[38;5;28mstr\u001B[39m, \u001B[38;5;241m*\u001B[39minputs: Any, \u001B[38;5;241m*\u001B[39m\u001B[38;5;241m*\u001B[39mkwargs: Any\n\u001B[0;32m   2112\u001B[0m ):\n\u001B[1;32m-> 2113\u001B[0m     \u001B[38;5;28;01mreturn\u001B[39;00m arraylike\u001B[38;5;241m.\u001B[39marray_ufunc(\u001B[38;5;28mself\u001B[39m, ufunc, method, \u001B[38;5;241m*\u001B[39minputs, \u001B[38;5;241m*\u001B[39m\u001B[38;5;241m*\u001B[39mkwargs)\n",
      "File \u001B[1;32m~\\PycharmProjects\\NeuralNetsLabs\\venv\\lib\\site-packages\\pandas\\core\\arraylike.py:265\u001B[0m, in \u001B[0;36marray_ufunc\u001B[1;34m(self, ufunc, method, *inputs, **kwargs)\u001B[0m\n\u001B[0;32m    262\u001B[0m     \u001B[38;5;28;01mreturn\u001B[39;00m result\n\u001B[0;32m    264\u001B[0m \u001B[38;5;66;03m# for binary ops, use our custom dunder methods\u001B[39;00m\n\u001B[1;32m--> 265\u001B[0m result \u001B[38;5;241m=\u001B[39m maybe_dispatch_ufunc_to_dunder_op(\u001B[38;5;28mself\u001B[39m, ufunc, method, \u001B[38;5;241m*\u001B[39minputs, \u001B[38;5;241m*\u001B[39m\u001B[38;5;241m*\u001B[39mkwargs)\n\u001B[0;32m    266\u001B[0m \u001B[38;5;28;01mif\u001B[39;00m result \u001B[38;5;129;01mis\u001B[39;00m \u001B[38;5;129;01mnot\u001B[39;00m \u001B[38;5;28mNotImplemented\u001B[39m:\n\u001B[0;32m    267\u001B[0m     \u001B[38;5;28;01mreturn\u001B[39;00m result\n",
      "File \u001B[1;32m~\\PycharmProjects\\NeuralNetsLabs\\venv\\lib\\site-packages\\pandas\\_libs\\ops_dispatch.pyx:113\u001B[0m, in \u001B[0;36mpandas._libs.ops_dispatch.maybe_dispatch_ufunc_to_dunder_op\u001B[1;34m()\u001B[0m\n",
      "File \u001B[1;32m~\\PycharmProjects\\NeuralNetsLabs\\venv\\lib\\site-packages\\pandas\\core\\ops\\common.py:72\u001B[0m, in \u001B[0;36m_unpack_zerodim_and_defer.<locals>.new_method\u001B[1;34m(self, other)\u001B[0m\n\u001B[0;32m     68\u001B[0m             \u001B[38;5;28;01mreturn\u001B[39;00m \u001B[38;5;28mNotImplemented\u001B[39m\n\u001B[0;32m     70\u001B[0m other \u001B[38;5;241m=\u001B[39m item_from_zerodim(other)\n\u001B[1;32m---> 72\u001B[0m \u001B[38;5;28;01mreturn\u001B[39;00m \u001B[43mmethod\u001B[49m\u001B[43m(\u001B[49m\u001B[38;5;28;43mself\u001B[39;49m\u001B[43m,\u001B[49m\u001B[43m \u001B[49m\u001B[43mother\u001B[49m\u001B[43m)\u001B[49m\n",
      "File \u001B[1;32m~\\PycharmProjects\\NeuralNetsLabs\\venv\\lib\\site-packages\\pandas\\core\\arraylike.py:122\u001B[0m, in \u001B[0;36mOpsMixin.__rmul__\u001B[1;34m(self, other)\u001B[0m\n\u001B[0;32m    120\u001B[0m \u001B[38;5;129m@unpack_zerodim_and_defer\u001B[39m(\u001B[38;5;124m\"\u001B[39m\u001B[38;5;124m__rmul__\u001B[39m\u001B[38;5;124m\"\u001B[39m)\n\u001B[0;32m    121\u001B[0m \u001B[38;5;28;01mdef\u001B[39;00m \u001B[38;5;21m__rmul__\u001B[39m(\u001B[38;5;28mself\u001B[39m, other):\n\u001B[1;32m--> 122\u001B[0m     \u001B[38;5;28;01mreturn\u001B[39;00m \u001B[38;5;28;43mself\u001B[39;49m\u001B[38;5;241;43m.\u001B[39;49m\u001B[43m_arith_method\u001B[49m\u001B[43m(\u001B[49m\u001B[43mother\u001B[49m\u001B[43m,\u001B[49m\u001B[43m \u001B[49m\u001B[43mroperator\u001B[49m\u001B[38;5;241;43m.\u001B[39;49m\u001B[43mrmul\u001B[49m\u001B[43m)\u001B[49m\n",
      "File \u001B[1;32m~\\PycharmProjects\\NeuralNetsLabs\\venv\\lib\\site-packages\\pandas\\core\\series.py:6259\u001B[0m, in \u001B[0;36mSeries._arith_method\u001B[1;34m(self, other, op)\u001B[0m\n\u001B[0;32m   6257\u001B[0m \u001B[38;5;28;01mdef\u001B[39;00m \u001B[38;5;21m_arith_method\u001B[39m(\u001B[38;5;28mself\u001B[39m, other, op):\n\u001B[0;32m   6258\u001B[0m     \u001B[38;5;28mself\u001B[39m, other \u001B[38;5;241m=\u001B[39m ops\u001B[38;5;241m.\u001B[39malign_method_SERIES(\u001B[38;5;28mself\u001B[39m, other)\n\u001B[1;32m-> 6259\u001B[0m     \u001B[38;5;28;01mreturn\u001B[39;00m \u001B[43mbase\u001B[49m\u001B[38;5;241;43m.\u001B[39;49m\u001B[43mIndexOpsMixin\u001B[49m\u001B[38;5;241;43m.\u001B[39;49m\u001B[43m_arith_method\u001B[49m\u001B[43m(\u001B[49m\u001B[38;5;28;43mself\u001B[39;49m\u001B[43m,\u001B[49m\u001B[43m \u001B[49m\u001B[43mother\u001B[49m\u001B[43m,\u001B[49m\u001B[43m \u001B[49m\u001B[43mop\u001B[49m\u001B[43m)\u001B[49m\n",
      "File \u001B[1;32m~\\PycharmProjects\\NeuralNetsLabs\\venv\\lib\\site-packages\\pandas\\core\\base.py:1325\u001B[0m, in \u001B[0;36mIndexOpsMixin._arith_method\u001B[1;34m(self, other, op)\u001B[0m\n\u001B[0;32m   1322\u001B[0m rvalues \u001B[38;5;241m=\u001B[39m ensure_wrapped_if_datetimelike(rvalues)\n\u001B[0;32m   1324\u001B[0m \u001B[38;5;28;01mwith\u001B[39;00m np\u001B[38;5;241m.\u001B[39merrstate(\u001B[38;5;28mall\u001B[39m\u001B[38;5;241m=\u001B[39m\u001B[38;5;124m\"\u001B[39m\u001B[38;5;124mignore\u001B[39m\u001B[38;5;124m\"\u001B[39m):\n\u001B[1;32m-> 1325\u001B[0m     result \u001B[38;5;241m=\u001B[39m \u001B[43mops\u001B[49m\u001B[38;5;241;43m.\u001B[39;49m\u001B[43marithmetic_op\u001B[49m\u001B[43m(\u001B[49m\u001B[43mlvalues\u001B[49m\u001B[43m,\u001B[49m\u001B[43m \u001B[49m\u001B[43mrvalues\u001B[49m\u001B[43m,\u001B[49m\u001B[43m \u001B[49m\u001B[43mop\u001B[49m\u001B[43m)\u001B[49m\n\u001B[0;32m   1327\u001B[0m \u001B[38;5;28;01mreturn\u001B[39;00m \u001B[38;5;28mself\u001B[39m\u001B[38;5;241m.\u001B[39m_construct_result(result, name\u001B[38;5;241m=\u001B[39mres_name)\n",
      "File \u001B[1;32m~\\PycharmProjects\\NeuralNetsLabs\\venv\\lib\\site-packages\\pandas\\core\\ops\\array_ops.py:226\u001B[0m, in \u001B[0;36marithmetic_op\u001B[1;34m(left, right, op)\u001B[0m\n\u001B[0;32m    222\u001B[0m     _bool_arith_check(op, left, right)\n\u001B[0;32m    224\u001B[0m     \u001B[38;5;66;03m# error: Argument 1 to \"_na_arithmetic_op\" has incompatible type\u001B[39;00m\n\u001B[0;32m    225\u001B[0m     \u001B[38;5;66;03m# \"Union[ExtensionArray, ndarray[Any, Any]]\"; expected \"ndarray[Any, Any]\"\u001B[39;00m\n\u001B[1;32m--> 226\u001B[0m     res_values \u001B[38;5;241m=\u001B[39m \u001B[43m_na_arithmetic_op\u001B[49m\u001B[43m(\u001B[49m\u001B[43mleft\u001B[49m\u001B[43m,\u001B[49m\u001B[43m \u001B[49m\u001B[43mright\u001B[49m\u001B[43m,\u001B[49m\u001B[43m \u001B[49m\u001B[43mop\u001B[49m\u001B[43m)\u001B[49m  \u001B[38;5;66;03m# type: ignore[arg-type]\u001B[39;00m\n\u001B[0;32m    228\u001B[0m \u001B[38;5;28;01mreturn\u001B[39;00m res_values\n",
      "File \u001B[1;32m~\\PycharmProjects\\NeuralNetsLabs\\venv\\lib\\site-packages\\pandas\\core\\ops\\array_ops.py:165\u001B[0m, in \u001B[0;36m_na_arithmetic_op\u001B[1;34m(left, right, op, is_cmp)\u001B[0m\n\u001B[0;32m    162\u001B[0m     func \u001B[38;5;241m=\u001B[39m partial(expressions\u001B[38;5;241m.\u001B[39mevaluate, op)\n\u001B[0;32m    164\u001B[0m \u001B[38;5;28;01mtry\u001B[39;00m:\n\u001B[1;32m--> 165\u001B[0m     result \u001B[38;5;241m=\u001B[39m \u001B[43mfunc\u001B[49m\u001B[43m(\u001B[49m\u001B[43mleft\u001B[49m\u001B[43m,\u001B[49m\u001B[43m \u001B[49m\u001B[43mright\u001B[49m\u001B[43m)\u001B[49m\n\u001B[0;32m    166\u001B[0m \u001B[38;5;28;01mexcept\u001B[39;00m \u001B[38;5;167;01mTypeError\u001B[39;00m:\n\u001B[0;32m    167\u001B[0m     \u001B[38;5;28;01mif\u001B[39;00m \u001B[38;5;129;01mnot\u001B[39;00m is_cmp \u001B[38;5;129;01mand\u001B[39;00m (is_object_dtype(left\u001B[38;5;241m.\u001B[39mdtype) \u001B[38;5;129;01mor\u001B[39;00m is_object_dtype(right)):\n\u001B[0;32m    168\u001B[0m         \u001B[38;5;66;03m# For object dtype, fallback to a masked operation (only operating\u001B[39;00m\n\u001B[0;32m    169\u001B[0m         \u001B[38;5;66;03m#  on the non-missing values)\u001B[39;00m\n\u001B[0;32m    170\u001B[0m         \u001B[38;5;66;03m# Don't do this for comparisons, as that will handle complex numbers\u001B[39;00m\n\u001B[0;32m    171\u001B[0m         \u001B[38;5;66;03m#  incorrectly, see GH#32047\u001B[39;00m\n",
      "File \u001B[1;32m~\\PycharmProjects\\NeuralNetsLabs\\venv\\lib\\site-packages\\pandas\\core\\computation\\expressions.py:241\u001B[0m, in \u001B[0;36mevaluate\u001B[1;34m(op, a, b, use_numexpr)\u001B[0m\n\u001B[0;32m    238\u001B[0m \u001B[38;5;28;01mif\u001B[39;00m op_str \u001B[38;5;129;01mis\u001B[39;00m \u001B[38;5;129;01mnot\u001B[39;00m \u001B[38;5;28;01mNone\u001B[39;00m:\n\u001B[0;32m    239\u001B[0m     \u001B[38;5;28;01mif\u001B[39;00m use_numexpr:\n\u001B[0;32m    240\u001B[0m         \u001B[38;5;66;03m# error: \"None\" not callable\u001B[39;00m\n\u001B[1;32m--> 241\u001B[0m         \u001B[38;5;28;01mreturn\u001B[39;00m \u001B[43m_evaluate\u001B[49m\u001B[43m(\u001B[49m\u001B[43mop\u001B[49m\u001B[43m,\u001B[49m\u001B[43m \u001B[49m\u001B[43mop_str\u001B[49m\u001B[43m,\u001B[49m\u001B[43m \u001B[49m\u001B[43ma\u001B[49m\u001B[43m,\u001B[49m\u001B[43m \u001B[49m\u001B[43mb\u001B[49m\u001B[43m)\u001B[49m  \u001B[38;5;66;03m# type: ignore[misc]\u001B[39;00m\n\u001B[0;32m    242\u001B[0m \u001B[38;5;28;01mreturn\u001B[39;00m _evaluate_standard(op, op_str, a, b)\n",
      "File \u001B[1;32m~\\PycharmProjects\\NeuralNetsLabs\\venv\\lib\\site-packages\\pandas\\core\\computation\\expressions.py:70\u001B[0m, in \u001B[0;36m_evaluate_standard\u001B[1;34m(op, op_str, a, b)\u001B[0m\n\u001B[0;32m     68\u001B[0m \u001B[38;5;28;01mif\u001B[39;00m _TEST_MODE:\n\u001B[0;32m     69\u001B[0m     _store_test_result(\u001B[38;5;28;01mFalse\u001B[39;00m)\n\u001B[1;32m---> 70\u001B[0m \u001B[38;5;28;01mreturn\u001B[39;00m \u001B[43mop\u001B[49m\u001B[43m(\u001B[49m\u001B[43ma\u001B[49m\u001B[43m,\u001B[49m\u001B[43m \u001B[49m\u001B[43mb\u001B[49m\u001B[43m)\u001B[49m\n",
      "File \u001B[1;32m~\\PycharmProjects\\NeuralNetsLabs\\venv\\lib\\site-packages\\pandas\\core\\roperator.py:19\u001B[0m, in \u001B[0;36mrmul\u001B[1;34m(left, right)\u001B[0m\n\u001B[0;32m     18\u001B[0m \u001B[38;5;28;01mdef\u001B[39;00m \u001B[38;5;21mrmul\u001B[39m(left, right):\n\u001B[1;32m---> 19\u001B[0m     \u001B[38;5;28;01mreturn\u001B[39;00m \u001B[43mright\u001B[49m\u001B[43m \u001B[49m\u001B[38;5;241;43m*\u001B[39;49m\u001B[43m \u001B[49m\u001B[43mleft\u001B[49m\n",
      "\u001B[1;31mValueError\u001B[0m: operands could not be broadcast together with shapes (20,120) (20,) "
     ]
    }
   ],
   "source": [
    "for epoch in range(epochs):\n",
    "    for row_id, _ in df.iterrows():\n",
    "        error_sign, layers_inputs = forward(\n",
    "            feature_data.iloc[row_id],\n",
    "            target_data.iloc[row_id]\n",
    "        )\n",
    "        back_propagation(error_sign)\n",
    "\n",
    "        if epoch % 100 == 0 and row_id == 1:\n",
    "            print(f\"${epoch} - ${error_sign}\")\n"
   ],
   "metadata": {
    "collapsed": false,
    "ExecuteTime": {
     "end_time": "2023-05-17T07:19:11.703201800Z",
     "start_time": "2023-05-17T07:19:11.216021200Z"
    }
   }
  },
  {
   "cell_type": "markdown",
   "source": [
    "# Тест"
   ],
   "metadata": {
    "collapsed": false
   }
  },
  {
   "cell_type": "markdown",
   "source": [
    "Дифференцируем: dE(n) / dwij(n) = ej(n) * (-1) * phi'(vi(n)) * yj(n)\n",
    "vi - сумма выходных сигналов нейрона"
   ],
   "metadata": {
    "collapsed": false
   }
  },
  {
   "cell_type": "code",
   "execution_count": null,
   "outputs": [],
   "source": [
    "# def dE_dw():\n",
    "#     error_signal() * diff_sigmoid(summator(x, w)) * output_signal(x, w)"
   ],
   "metadata": {
    "collapsed": false,
    "ExecuteTime": {
     "start_time": "2023-05-17T07:19:11.420008800Z"
    }
   }
  },
  {
   "cell_type": "markdown",
   "source": [
    "# Градиентный спуск"
   ],
   "metadata": {
    "collapsed": false
   }
  },
  {
   "cell_type": "markdown",
   "source": [
    "* Оригинальный - долго. Гоняет туда-сюда.\n",
    "* Стохастический - за один прогон. То что запомнили за прямой прогон. Один раз туда, один раз прогнали и затем применили.\n",
    "* Пакетный - берём не всю, а батчевый. Мы будем гнать не по 200, не по одной, а, допустим, по 10. И затем для пакета все это применим\n",
    "\n",
    "Синопс, а не нейрон. Разные сущности.\n",
    "Прогнали, запомнили. На какойто посчитали для входного, затем выходного. Применили веса."
   ],
   "metadata": {
    "collapsed": false
   }
  },
  {
   "cell_type": "markdown",
   "source": [
    "# Регуляризация (по желанию)"
   ],
   "metadata": {
    "collapsed": false
   }
  },
  {
   "cell_type": "markdown",
   "source": [
    "Рекомендутся сделать элементарный стохастический град спуск. Считать по формулам со слайда"
   ],
   "metadata": {
    "collapsed": false
   }
  },
  {
   "cell_type": "markdown",
   "source": [
    "Сигмоида только с положительными. Гипер Тангенс - знак. ReLu про другое.\n",
    "Главное, что число гиперпараметров сети должно было хватить, чтобы обобщить.\n",
    "Нейронка не должна быть маленькой.\n",
    "Два слоя по 50 нейронов. (Чувак показывал, всё получилось)\n",
    "R2 score посчитать, MSE. Обобщаем на многомерный случай. ROC-AUC можно."
   ],
   "metadata": {
    "collapsed": false
   }
  },
  {
   "cell_type": "markdown",
   "source": [
    "# 70% - 30%. Обучать на тестовой"
   ],
   "metadata": {
    "collapsed": false
   }
  }
 ],
 "metadata": {
  "kernelspec": {
   "display_name": "Python 3",
   "language": "python",
   "name": "python3"
  },
  "language_info": {
   "codemirror_mode": {
    "name": "ipython",
    "version": 2
   },
   "file_extension": ".py",
   "mimetype": "text/x-python",
   "name": "python",
   "nbconvert_exporter": "python",
   "pygments_lexer": "ipython2",
   "version": "2.7.6"
  }
 },
 "nbformat": 4,
 "nbformat_minor": 0
}
